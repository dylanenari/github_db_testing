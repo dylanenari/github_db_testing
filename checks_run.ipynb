{
 "cells": [
  {
   "cell_type": "markdown",
   "metadata": {
    "application/vnd.databricks.v1+cell": {
     "cellMetadata": {},
     "inputWidgets": {},
     "nuid": "7b164597-a1a1-4a66-87ca-d3d25bcf5f9a",
     "showTitle": false,
     "title": ""
    },
    "collapsed": true
   },
   "source": [
    "Call demo quality checks function on ticketing dataframe"
   ]
  },
  {
   "cell_type": "code",
   "execution_count": null,
   "metadata": {
    "application/vnd.databricks.v1+cell": {
     "cellMetadata": {
      "byteLimit": 2048000,
      "rowLimit": 10000
     },
     "inputWidgets": {},
     "nuid": "559d3e64-7251-44ab-a1b6-3597bed6f4eb",
     "showTitle": false,
     "title": ""
    }
   },
   "outputs": [],
   "source": [
    "# Imports\n",
    "from data_quality_checks import *\n",
    "from pyspark.sql.functions import *\n",
    "from pyspark.sql.types import StringType, DateType\n",
    "from pyspark.sql import DataFrame"
   ]
  },
  {
   "cell_type": "code",
   "execution_count": null,
   "metadata": {
    "application/vnd.databricks.v1+cell": {
     "cellMetadata": {
      "byteLimit": 2048000,
      "rowLimit": 10000
     },
     "inputWidgets": {},
     "nuid": "6ad85238-73b4-4069-aa26-0618c4d3b571",
     "showTitle": false,
     "title": ""
    }
   },
   "outputs": [],
   "source": [
    "# parameters\n",
    "table_name = \"raw_document\"\n",
    "db_name = \"ac_stg_green\"\n",
    "module = \"ti-tables-ticketing\"\n",
    "date_column = \"snapshot_date\"\n",
    "airline_code = \"AC\"\n",
    "\n",
    "# if table exists in database:\n",
    "if tableExists(db_name, table_name):\n",
    "\n",
    "    df = spark.sql(f\"SELECT * FROM {db_name}.{table_name}\") \\\n",
    "        .filter(\"snapshot_date_time >= '2023-01-01' and snapshot_date_time < '2023-01-08'\") \\\n",
    "        .withColumn(\"snapshot_date\", col(\"snapshot_date_time\").cast(DateType()))\n",
    "    \n",
    "    # run checks\n",
    "    compl_df = QualityCheck(spark, df, airline_code, module, table_name, date_column).compute_completeness()  \n",
    "\n",
    "    if compl_df.isEmpty():\n",
    "        print(f\"The data quality checks were not run succesfully.\")\n",
    "    else:\n",
    "        display(compl_df)    \n",
    "\n",
    "else:\n",
    "    print(f\"The especified table '{table_name}' does not exist in database '{db_name}'.\")"
   ]
  }
 ],
 "metadata": {
  "application/vnd.databricks.v1+notebook": {
   "dashboards": [],
   "language": "python",
   "notebookMetadata": {
    "pythonIndentUnit": 4
   },
   "notebookName": "function_run",
   "widgets": {}
  },
  "kernelspec": {
   "display_name": "Python 3",
   "language": "python",
   "name": "python3"
  },
  "language_info": {
   "codemirror_mode": {
    "name": "ipython",
    "version": 3
   },
   "file_extension": ".py",
   "mimetype": "text/x-python",
   "name": "python",
   "nbconvert_exporter": "python",
   "pygments_lexer": "ipython3",
   "version": "3.12.2"
  }
 },
 "nbformat": 4,
 "nbformat_minor": 0
}
